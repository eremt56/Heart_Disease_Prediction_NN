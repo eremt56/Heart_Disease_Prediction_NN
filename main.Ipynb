{
 "cells": [
  {
   "cell_type": "code",
   "execution_count": 47,
   "metadata": {},
   "outputs": [],
   "source": []
  },
  {
   "cell_type": "code",
   "execution_count": 95,
   "metadata": {},
   "outputs": [
    {
     "ename": "TypeError",
     "evalue": "training() takes 4 positional arguments but 5 were given",
     "output_type": "error",
     "traceback": [
      "\u001b[0;31m---------------------------------------------------------------------------\u001b[0m",
      "\u001b[0;31mTypeError\u001b[0m                                 Traceback (most recent call last)",
      "Cell \u001b[0;32mIn[95], line 66\u001b[0m\n\u001b[1;32m     62\u001b[0m model \u001b[39m=\u001b[39m Model\u001b[39m.\u001b[39mModel()\n\u001b[1;32m     64\u001b[0m model\u001b[39m.\u001b[39m\u001b[39m__init__\u001b[39m()\n\u001b[0;32m---> 66\u001b[0m model\u001b[39m.\u001b[39;49mtraining(training_set, training_set_answer, val_set, val_set_answer)\n",
      "\u001b[0;31mTypeError\u001b[0m: training() takes 4 positional arguments but 5 were given"
     ]
    }
   ],
   "source": [
    "#import libraries\n",
    "import sys\n",
    "import pandas as pd\n",
    "import numpy as np\n",
    "from matplotlib import pyplot as plt\n",
    "import math\n",
    "import Model as Model\n",
    "\n",
    "#Process and Standardize Raw Data\n",
    "\n",
    "dataSetUp=pd.read_csv(\"heart-data.csv\")\n",
    "\n",
    "data=np.array(dataSetUp)\n",
    "\n",
    "m, n = data.T.shape\n",
    "\n",
    "data_set=data.T\n",
    "\n",
    "data_set[0] = normalize(data_set[0])\n",
    "\n",
    "data_set[1] = np.where(data_set[1] == 'M', 1, data_set[1])\n",
    "data_set[1] = np.where(data_set[1] == 'F', -1, data_set[1])\n",
    "\n",
    "data_set[2] = np.where(data_set[2]==\"ATA\", 1, data_set[2])\n",
    "data_set[2] = np.where(data_set[2]==\"ASY\", -1, data_set[2])\n",
    "data_set[2] = np.where(data_set[2]==\"NAP\", 2, data_set[2])\n",
    "data_set[2] = np.where(data_set[2]==\"TA\", -2, data_set[2])\n",
    "\n",
    "data_set[2] = normalize(data_set[2])\n",
    "\n",
    "data_set[3] = normalize(data_set[3])\n",
    "\n",
    "data_set[4] = normalize(data_set[4])\n",
    "\n",
    "data_set[5] = normalize(data_set[5])\n",
    "\n",
    "data_set[6] = np.where(data_set[6] == 'Normal', -1, data_set[6])\n",
    "data_set[6] = np.where(data_set[6] == \"ST\", 0, data_set[6])\n",
    "data_set[6] = np.where(data_set[6] == \"LVH\", 1, data_set[6])\n",
    "\n",
    "data_set[6] = normalize(data_set[6])\n",
    "\n",
    "data_set[7] = normalize(data_set[7])\n",
    "\n",
    "data_set[8] = np.where(data_set[8] == 'Y', 1, data_set[8])\n",
    "data_set[8] = np.where(data_set[8] == 'N', -1, data_set[8])\n",
    "\n",
    "data_set[9] = normalize(data_set[9])\n",
    "\n",
    "data_set[10] = np.where(data_set[10] == \"Up\", 1, data_set[10])\n",
    "data_set[10] = np.where(data_set[10] == \"Flat\", 0, data_set[10])\n",
    "data_set[10] = np.where(data_set[10] == \"Down\", -1, data_set[10])\n",
    "\n",
    "val_set_answer = data_set[11:12, 0:100]\n",
    "\n",
    "val_set = data_set[0:11, 0:100]\n",
    "\n",
    "training_set = data_set[0:11, 100:917]\n",
    "\n",
    "training_set_answer = data_set[11:12, 100:917]\n",
    "\n",
    "model = Model.Model()\n",
    "\n",
    "model.__init__()\n",
    "\n",
    "model.training(training_set, training_set_answer, val_set, val_set_answer)\n"
   ]
  }
 ],
 "metadata": {
  "kernelspec": {
   "display_name": "Python 3",
   "language": "python",
   "name": "python3"
  },
  "language_info": {
   "codemirror_mode": {
    "name": "ipython",
    "version": 3
   },
   "file_extension": ".py",
   "mimetype": "text/x-python",
   "name": "python",
   "nbconvert_exporter": "python",
   "pygments_lexer": "ipython3",
   "version": "3.8.10"
  },
  "orig_nbformat": 4
 },
 "nbformat": 4,
 "nbformat_minor": 2
}
